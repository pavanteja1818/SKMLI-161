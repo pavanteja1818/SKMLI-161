{
 "cells": [
  {
   "cell_type": "code",
   "execution_count": null,
   "id": "fad32a93",
   "metadata": {},
   "outputs": [],
   "source": []
  },
  {
   "cell_type": "code",
   "execution_count": 2,
   "id": "3fe11edc",
   "metadata": {},
   "outputs": [],
   "source": [
    "import pandas as pd\n",
    "import numpy as np"
   ]
  },
  {
   "cell_type": "code",
   "execution_count": 3,
   "id": "ffb9383b",
   "metadata": {},
   "outputs": [
    {
     "data": {
      "text/html": [
       "<div>\n",
       "<style scoped>\n",
       "    .dataframe tbody tr th:only-of-type {\n",
       "        vertical-align: middle;\n",
       "    }\n",
       "\n",
       "    .dataframe tbody tr th {\n",
       "        vertical-align: top;\n",
       "    }\n",
       "\n",
       "    .dataframe thead th {\n",
       "        text-align: right;\n",
       "    }\n",
       "</style>\n",
       "<table border=\"1\" class=\"dataframe\">\n",
       "  <thead>\n",
       "    <tr style=\"text-align: right;\">\n",
       "      <th></th>\n",
       "      <th>Id</th>\n",
       "      <th>sepal_length</th>\n",
       "      <th>sepal_width</th>\n",
       "      <th>petal_length</th>\n",
       "      <th>petal_width</th>\n",
       "      <th>species</th>\n",
       "    </tr>\n",
       "  </thead>\n",
       "  <tbody>\n",
       "    <tr>\n",
       "      <th>1</th>\n",
       "      <td>2</td>\n",
       "      <td>4.9</td>\n",
       "      <td>3.0</td>\n",
       "      <td>1.4</td>\n",
       "      <td>0.2</td>\n",
       "      <td>Iris-setosa</td>\n",
       "    </tr>\n",
       "    <tr>\n",
       "      <th>51</th>\n",
       "      <td>52</td>\n",
       "      <td>6.4</td>\n",
       "      <td>3.2</td>\n",
       "      <td>4.5</td>\n",
       "      <td>1.5</td>\n",
       "      <td>Iris-versicolor</td>\n",
       "    </tr>\n",
       "    <tr>\n",
       "      <th>101</th>\n",
       "      <td>102</td>\n",
       "      <td>5.8</td>\n",
       "      <td>2.7</td>\n",
       "      <td>5.1</td>\n",
       "      <td>1.9</td>\n",
       "      <td>Iris-virginica</td>\n",
       "    </tr>\n",
       "  </tbody>\n",
       "</table>\n",
       "</div>"
      ],
      "text/plain": [
       "      Id  sepal_length  sepal_width  petal_length  petal_width  \\\n",
       "1      2           4.9          3.0           1.4          0.2   \n",
       "51    52           6.4          3.2           4.5          1.5   \n",
       "101  102           5.8          2.7           5.1          1.9   \n",
       "\n",
       "             species  \n",
       "1        Iris-setosa  \n",
       "51   Iris-versicolor  \n",
       "101   Iris-virginica  "
      ]
     },
     "execution_count": 3,
     "metadata": {},
     "output_type": "execute_result"
    }
   ],
   "source": [
    "df = pd.read_csv(\"Iris.csv\")\n",
    "df = df.iloc[[1, 51, 101]]\n",
    "\n",
    "df.head()"
   ]
  },
  {
   "cell_type": "code",
   "execution_count": 4,
   "id": "99c268e2",
   "metadata": {},
   "outputs": [
    {
     "name": "stdout",
     "output_type": "stream",
     "text": [
      "[[1 0 0]\n",
      " [0 1 0]\n",
      " [0 0 1]]\n",
      "\n",
      "[[4.9 3.  1.4 0.2]\n",
      " [6.4 3.2 4.5 1.5]\n",
      " [5.8 2.7 5.1 1.9]]\n"
     ]
    }
   ],
   "source": [
    "y = pd.get_dummies(df.species).values\n",
    "N = y.size\n",
    "x = df.drop([\"Id\", \"species\"], axis=1).values\n",
    "\n",
    "print(y)\n",
    "print()\n",
    "print(x)"
   ]
  },
  {
   "cell_type": "code",
   "execution_count": 5,
   "id": "19e5fa67",
   "metadata": {},
   "outputs": [],
   "source": [
    "def sigmoid(x):\n",
    "    return 1 / (1 + np.exp(-x))\n"
   ]
  },
  {
   "cell_type": "code",
   "execution_count": 6,
   "id": "0dd77ab5",
   "metadata": {},
   "outputs": [],
   "source": [
    "learning_rate = 0.1\n",
    "\n",
    "n_input = 4\n",
    "n_hidden = 2\n",
    "n_output = 3"
   ]
  },
  {
   "cell_type": "code",
   "execution_count": 7,
   "id": "45b6e43f",
   "metadata": {},
   "outputs": [],
   "source": [
    "np.random.seed(10)\n",
    "\n",
    "weights_1 = np.random.normal(scale=0.5, size=(n_input, n_hidden))   # (4, 2)\n",
    "weights_2 = np.random.normal(scale=0.5, size=(n_hidden, n_output))  # (2, 3)"
   ]
  },
  {
   "cell_type": "code",
   "execution_count": 8,
   "id": "0e4e2b11",
   "metadata": {},
   "outputs": [],
   "source": [
    "# feedforward\n",
    "hidden_layer_inputs = np.dot(x, weights_1)\n",
    "hidden_layer_outputs = sigmoid(hidden_layer_inputs)\n",
    "\n",
    "output_layer_inputs = np.dot(hidden_layer_outputs, weights_2)\n",
    "output_layer_outputs = sigmoid(output_layer_inputs)\n",
    "\n",
    "# backpropagation\n",
    "output_layer_error = output_layer_outputs - y\n",
    "output_layer_delta = output_layer_error * output_layer_outputs * (1 - output_layer_outputs)\n",
    "\n",
    "hidden_layer_error = np.dot(output_layer_delta, weights_2.T)\n",
    "hidden_layer_delta = hidden_layer_error * hidden_layer_outputs * (1 - hidden_layer_outputs)\n",
    "\n",
    "# weight updates\n",
    "weights_2_update = np.dot(hidden_layer_outputs.T, output_layer_delta) / N\n",
    "weights_1_update = np.dot(x.T, hidden_layer_delta) / N\n",
    "\n",
    "weights_2 = weights_2 - learning_rate * weights_2_update\n",
    "weights_1 = weights_1 - learning_rate * weights_1_update"
   ]
  },
  {
   "cell_type": "code",
   "execution_count": 9,
   "id": "073a75c2",
   "metadata": {},
   "outputs": [
    {
     "data": {
      "text/plain": [
       "0.13831126800831411"
      ]
     },
     "execution_count": 9,
     "metadata": {},
     "output_type": "execute_result"
    }
   ],
   "source": [
    "mse = ((output_layer_outputs - y)**2).sum() / (2*N)\n",
    "mse"
   ]
  },
  {
   "cell_type": "code",
   "execution_count": 10,
   "id": "c94d27a6",
   "metadata": {},
   "outputs": [],
   "source": [
    "# feedforward\n",
    "hidden_layer_inputs = np.dot(x, weights_1)\n",
    "hidden_layer_outputs = sigmoid(hidden_layer_inputs)\n",
    "\n",
    "output_layer_inputs = np.dot(hidden_layer_outputs, weights_2)\n",
    "output_layer_outputs = sigmoid(output_layer_inputs)"
   ]
  },
  {
   "cell_type": "code",
   "execution_count": 11,
   "id": "4654deff",
   "metadata": {},
   "outputs": [
    {
     "data": {
      "text/plain": [
       "0.1379749216970851"
      ]
     },
     "execution_count": 11,
     "metadata": {},
     "output_type": "execute_result"
    }
   ],
   "source": [
    "mse = ((output_layer_outputs - y)**2).sum() / (2*N)\n",
    "mse"
   ]
  },
  {
   "cell_type": "code",
   "execution_count": null,
   "id": "caccd492",
   "metadata": {},
   "outputs": [],
   "source": []
  }
 ],
 "metadata": {
  "kernelspec": {
   "display_name": "Python 3 (ipykernel)",
   "language": "python",
   "name": "python3"
  },
  "language_info": {
   "codemirror_mode": {
    "name": "ipython",
    "version": 3
   },
   "file_extension": ".py",
   "mimetype": "text/x-python",
   "name": "python",
   "nbconvert_exporter": "python",
   "pygments_lexer": "ipython3",
   "version": "3.11.4"
  }
 },
 "nbformat": 4,
 "nbformat_minor": 5
}
